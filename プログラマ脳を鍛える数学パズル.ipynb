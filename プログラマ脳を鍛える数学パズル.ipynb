{
  "nbformat": 4,
  "nbformat_minor": 0,
  "metadata": {
    "colab": {
      "provenance": [],
      "authorship_tag": "ABX9TyNX7v9cnDR64d5p3nyq393P",
      "include_colab_link": true
    },
    "kernelspec": {
      "name": "python3",
      "display_name": "Python 3"
    },
    "language_info": {
      "name": "python"
    }
  },
  "cells": [
    {
      "cell_type": "markdown",
      "metadata": {
        "id": "view-in-github",
        "colab_type": "text"
      },
      "source": [
        "<a href=\"https://colab.research.google.com/github/takaki-22/colaboratry/blob/main/%E3%83%97%E3%83%AD%E3%82%B0%E3%83%A9%E3%83%9E%E8%84%B3%E3%82%92%E9%8D%9B%E3%81%88%E3%82%8B%E6%95%B0%E5%AD%A6%E3%83%91%E3%82%BA%E3%83%AB.ipynb\" target=\"_parent\"><img src=\"https://colab.research.google.com/assets/colab-badge.svg\" alt=\"Open In Colab\"/></a>"
      ]
    },
    {
      "cell_type": "code",
      "source": [
        "num = 11\n",
        "\n",
        "while True:\n",
        "    binary = bin(num)[2:]\n",
        "    octal = oct(num)[2:]\n",
        "\n",
        "    if str(num) == ''.join(reversed(str(num)))and \\\n",
        "                           binary == ''.join(reversed(binary))and \\\n",
        "                                                  octal == ''.join(reversed(octal)):\n",
        "        print(num)\n",
        "        break\n",
        "    else:\n",
        "        num += 2"
      ],
      "metadata": {
        "colab": {
          "base_uri": "https://localhost:8080/"
        },
        "id": "NTkNYUeTqPBg",
        "outputId": "c538260c-27f8-43dd-e20a-dacf9a8c5d33"
      },
      "execution_count": null,
      "outputs": [
        {
          "output_type": "stream",
          "name": "stdout",
          "text": [
            "585\n"
          ]
        }
      ]
    },
    {
      "cell_type": "code",
      "source": [
        "op = [\"*\", \"\"]\n",
        "i = 1000\n",
        "\n",
        "while i <= 9999:\n",
        "    n = str(i)\n",
        "    for j in range(len(op)):\n",
        "        for k in range(len(op)):\n",
        "            for l in range(len(op)):\n",
        "                val = n[0] + op[j] + n[1] + op[k] + n[2] + op[l] + n[3]\n",
        "                if len(val) > 4:\n",
        "                    if n[1] != \"0\" and n[2] != \"0\":\n",
        "                        if n == ''.join(reversed(str(eval(val)))):\n",
        "                            print(i)\n",
        "    i += 1"
      ],
      "metadata": {
        "colab": {
          "base_uri": "https://localhost:8080/"
        },
        "id": "OGs-moEc0un6",
        "outputId": "194bc60b-fed3-43da-8145-8c4ad0388cc4"
      },
      "execution_count": null,
      "outputs": [
        {
          "output_type": "stream",
          "name": "stdout",
          "text": [
            "5931\n"
          ]
        }
      ]
    },
    {
      "cell_type": "code",
      "source": [
        "li = [False for _ in range(100)]\n",
        "n = 2\n",
        "\n",
        "while n <= 100:\n",
        "    for i in range(n,101,n):\n",
        "        li[i-1] = not li[i-1]\n",
        "    n += 1\n",
        "\n",
        "li_0 = []\n",
        "for index, value in enumerate(li):\n",
        "    if value == False:\n",
        "        li_0.append(index + 1)\n",
        "\n",
        "for i in li_0:\n",
        "    print(i)"
      ],
      "metadata": {
        "colab": {
          "base_uri": "https://localhost:8080/"
        },
        "id": "CVkhtSD_QGXi",
        "outputId": "cdd105d1-92fa-46da-c761-6aa86545ad5b"
      },
      "execution_count": null,
      "outputs": [
        {
          "output_type": "stream",
          "name": "stdout",
          "text": [
            "1\n",
            "4\n",
            "9\n",
            "16\n",
            "25\n",
            "36\n",
            "49\n",
            "64\n",
            "81\n",
            "100\n"
          ]
        }
      ]
    },
    {
      "cell_type": "code",
      "source": [
        "def cutbar(m, n, bar):\n",
        "    count = 0\n",
        "    while bar <= n:\n",
        "        if bar <= m:\n",
        "            bar = bar * 2\n",
        "            count += 1\n",
        "        else:\n",
        "            bar += m\n",
        "            count += 1\n",
        "    print(count)\n",
        "\n",
        "cutbar(3, 20, 1)\n",
        "cutbar(5, 100, 1)"
      ],
      "metadata": {
        "colab": {
          "base_uri": "https://localhost:8080/"
        },
        "id": "R0I6YAiun-_-",
        "outputId": "c3562dcb-c639-4318-ae5f-5af9c351477b"
      },
      "execution_count": null,
      "outputs": [
        {
          "output_type": "stream",
          "name": "stdout",
          "text": [
            "8\n",
            "22\n"
          ]
        }
      ]
    },
    {
      "cell_type": "code",
      "source": [
        "import itertools\n",
        "\n",
        "coin = [10, 50, 100, 500]\n",
        "s = 1000\n",
        "conb = 0\n",
        "\n",
        "for i in range(2, 16):\n",
        "    combinations = itertools.combinations_with_replacement(coin, i)\n",
        "    for j in combinations:\n",
        "        if sum(j) == s:\n",
        "            conb += 1\n",
        "print(conb)"
      ],
      "metadata": {
        "colab": {
          "base_uri": "https://localhost:8080/"
        },
        "id": "Pnfokypd8tD0",
        "outputId": "3c8efe08-c7f6-48da-b0c8-f402fe8296ad"
      },
      "execution_count": null,
      "outputs": [
        {
          "output_type": "stream",
          "name": "stdout",
          "text": [
            "20\n"
          ]
        }
      ]
    },
    {
      "cell_type": "code",
      "source": [
        "n = 10000\n",
        "cnt = 0\n",
        "# i: i%2=0 ...*3+1して/2する\n",
        "# j: j%2!=0 ...*3+1する\n",
        "\n",
        "for i in range(2, n+1, 2):\n",
        "    x = i * 3 + 1\n",
        "    while True:\n",
        "        if x == i:\n",
        "            cnt += 1\n",
        "            break\n",
        "        elif x == 1:\n",
        "            break\n",
        "        else:\n",
        "            if x % 2 == 0:\n",
        "                x = x / 2\n",
        "            else:\n",
        "                x = x * 3 + 1\n",
        "\n",
        "print(cnt)"
      ],
      "metadata": {
        "colab": {
          "base_uri": "https://localhost:8080/"
        },
        "id": "S75kqor9HuJp",
        "outputId": "19b15e69-da6d-4105-f625-610806f031c4"
      },
      "execution_count": null,
      "outputs": [
        {
          "output_type": "stream",
          "name": "stdout",
          "text": [
            "34\n"
          ]
        }
      ]
    },
    {
      "cell_type": "code",
      "source": [
        "import datetime\n",
        "\n",
        "d = datetime.date(1964,10,10)\n",
        "\n",
        "while d <= datetime.date(2020,7,24):\n",
        "    date_as_int = d.year * 10000 + d.month * 100 + d.day\n",
        "    binary = bin(date_as_int)[2:]\n",
        "    r_binary = ''.join(reversed(binary))\n",
        "    if binary == r_binary:\n",
        "        print(date_as_int)\n",
        "    d = d + datetime.timedelta(days=1)"
      ],
      "metadata": {
        "id": "RXt2GFeiZ-Ht",
        "colab": {
          "base_uri": "https://localhost:8080/"
        },
        "outputId": "5eedf6eb-f69e-4e77-cead-6e61c432b4f6"
      },
      "execution_count": null,
      "outputs": [
        {
          "output_type": "stream",
          "name": "stdout",
          "text": [
            "19660713\n",
            "19660905\n",
            "19770217\n",
            "19950617\n",
            "20020505\n",
            "20130201\n"
          ]
        }
      ]
    },
    {
      "cell_type": "code",
      "source": [
        "def move(pos):\n",
        "    # 12回移動したら終了\n",
        "    if len(pos) == 13:\n",
        "        return 1\n",
        "\n",
        "    cnt = 0\n",
        "    li = [[1, 0], [-1, 0], [0, 1], [0, -1]]\n",
        "\n",
        "    for d in li:\n",
        "        next_pos = [pos[-1][0] + d[0], pos[-1][1] + d[1]]\n",
        "        if not next_pos in pos:\n",
        "            cnt += move(pos + [next_pos])\n",
        "    return cnt\n",
        "\n",
        "print(move([[0, 0]]))"
      ],
      "metadata": {
        "id": "MuFpbAw5HTw9",
        "colab": {
          "base_uri": "https://localhost:8080/"
        },
        "outputId": "f3af2885-ae0f-44cc-f0e3-c65a96d0a0d9"
      },
      "execution_count": null,
      "outputs": [
        {
          "output_type": "stream",
          "name": "stdout",
          "text": [
            "324932\n"
          ]
        }
      ]
    },
    {
      "cell_type": "code",
      "source": [
        "li = [[1,2]]\n",
        "li_1 = [2,3]\n",
        "print(li + [li_1])"
      ],
      "metadata": {
        "colab": {
          "base_uri": "https://localhost:8080/"
        },
        "id": "HkAluWu8NKtn",
        "outputId": "1386e87d-c6c5-41ed-d54d-585e9fd2c3cf"
      },
      "execution_count": null,
      "outputs": [
        {
          "output_type": "stream",
          "name": "stdout",
          "text": [
            "[[1, 2], [2, 3]]\n"
          ]
        }
      ]
    },
    {
      "cell_type": "code",
      "source": [
        "european = [0, 32, 15, 19, 4, 21, 2, 25, 17, 34, 6, 27, 13, 36, 11, 30, 8, 23, 10, 5, 24, 16, 33, 1, 20, 14, 31, 9, 22, 18, 29, 7, 28, 12, 35, 3, 26]\n",
        "american = [0, 28, 9, 26, 30, 11, 7, 20, 32, 17, 5, 22, 34, 15, 3, 24, 36, 13, 1, 00, 27, 10, 25, 29, 12, 8, 19, 31, 18, 6, 21, 33, 16, 4, 23, 35, 14, 2]\n",
        "\n",
        "def sum_max(roulette, n):\n",
        "    ans = sum(roulette[:n])\n",
        "    tmp = ans\n",
        "    for i in range(1, len(roulette) + 1):\n",
        "        tmp += roulette[(i + n - 1) % len(roulette)]\n",
        "        tmp -= roulette[i - 1]\n",
        "        ans = max(ans, tmp)\n",
        "    return ans\n",
        "\n",
        "cnt = 0\n",
        "for i in range(2, 37):\n",
        "    if sum_max(european, i) < sum_max(american, i):\n",
        "        cnt += 1\n",
        "\n",
        "print(cnt)"
      ],
      "metadata": {
        "id": "2Yixiuov4x4A",
        "colab": {
          "base_uri": "https://localhost:8080/"
        },
        "outputId": "532b43b9-a4bf-46c0-a126-fac1a0949f82"
      },
      "execution_count": null,
      "outputs": [
        {
          "output_type": "stream",
          "name": "stdout",
          "text": [
            "9\n"
          ]
        }
      ]
    },
    {
      "cell_type": "code",
      "source": [
        "# フィボナッチ数列\n",
        "\n",
        "tmp_o = 89\n",
        "tmp_p = 144\n",
        "tmp = 144\n",
        "\n",
        "while tmp < 1000:\n",
        "    tmp += tmp_o\n",
        "    tmp_o = tmp_p\n",
        "    tmp_p = tmp\n",
        "    print(tmp)"
      ],
      "metadata": {
        "colab": {
          "base_uri": "https://localhost:8080/"
        },
        "id": "XQEnzPP6fM12",
        "outputId": "35f9dd95-368c-459e-b27a-62a691765b4a"
      },
      "execution_count": null,
      "outputs": [
        {
          "output_type": "stream",
          "name": "stdout",
          "text": [
            "233\n",
            "377\n",
            "610\n",
            "987\n",
            "1597\n"
          ]
        }
      ]
    },
    {
      "cell_type": "code",
      "source": [
        "from functools import lru_cache\n",
        "\n",
        "@lru_cache\n",
        "def fib(n):\n",
        "    if n < 2:\n",
        "        return n\n",
        "    return fib(n-1) + fib(n-2)"
      ],
      "metadata": {
        "id": "w_77Ryq4sGom"
      },
      "execution_count": null,
      "outputs": []
    },
    {
      "cell_type": "code",
      "source": [
        "a = b = 1\n",
        "cnt = 0\n",
        "\n",
        "while cnt < 11:\n",
        "    c = a + b\n",
        "    li = [int(i) for i in str(c)]\n",
        "    if c % sum(li) == 0:\n",
        "        cnt += 1\n",
        "        if cnt >= 7:\n",
        "            print(c)\n",
        "    a, b = b, c"
      ],
      "metadata": {
        "colab": {
          "base_uri": "https://localhost:8080/"
        },
        "id": "6jY5EDQ1SEkq",
        "outputId": "6e0adbd5-208b-4c9d-f755-f2be76d892c0"
      },
      "execution_count": null,
      "outputs": [
        {
          "output_type": "stream",
          "name": "stdout",
          "text": [
            "2584\n",
            "14930352\n",
            "86267571272\n",
            "498454011879264\n",
            "160500643816367088\n"
          ]
        }
      ]
    },
    {
      "cell_type": "code",
      "source": [
        "import numpy as np\n",
        "# 整数部分を含む\n",
        "n = 2\n",
        "\n",
        "while True:\n",
        "    sq = np.sqrt(n)\n",
        "    sq_str = str(sq)\n",
        "    sq_str = sq_str.replace('.', '')\n",
        "    li = list(sq_str)[:10]\n",
        "    if len(set(li)) == 10:\n",
        "        break\n",
        "    n += 1\n",
        "print(n)\n",
        "\n",
        "# 少数部分のみ\n",
        "n = 2\n",
        "\n",
        "while True:\n",
        "    sq = np.sqrt(n)\n",
        "    sq_str = str(sq)\n",
        "    sq_str = sq_str.replace('.', '')\n",
        "    li = list(sq_str)[1:11]\n",
        "    if len(set(li)) == 10:\n",
        "        break\n",
        "    n += 1\n",
        "print(n)"
      ],
      "metadata": {
        "id": "YJ9yPiE2hBLr",
        "colab": {
          "base_uri": "https://localhost:8080/"
        },
        "outputId": "2a6756e0-d5b6-47b2-8c3b-35b9c07c1f24"
      },
      "execution_count": null,
      "outputs": [
        {
          "output_type": "stream",
          "name": "stdout",
          "text": [
            "1362\n",
            "143\n"
          ]
        }
      ]
    },
    {
      "cell_type": "code",
      "source": [
        "import re\n",
        "s = \"READ+WRITE+TALK=SKILL\"\n",
        "\n",
        "s[0] != 0\n",
        "[+-*/=]\n",
        "nums = re.sub()"
      ],
      "metadata": {
        "id": "ZZsxxKBrpaKO"
      },
      "execution_count": null,
      "outputs": []
    }
  ]
}